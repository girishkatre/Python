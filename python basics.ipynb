{
 "cells": [
  {
   "cell_type": "code",
   "execution_count": 5,
   "id": "cd216c05-0300-4af7-9843-d0490b8765d5",
   "metadata": {},
   "outputs": [
    {
     "name": "stdout",
     "output_type": "stream",
     "text": [
      "10 20 30\n"
     ]
    }
   ],
   "source": [
    "print(10, 20, 30)"
   ]
  },
  {
   "cell_type": "code",
   "execution_count": 6,
   "id": "5e42a726-8307-4b23-9879-4168973f7eca",
   "metadata": {},
   "outputs": [
    {
     "name": "stdout",
     "output_type": "stream",
     "text": [
      "I scored  90\n"
     ]
    }
   ],
   "source": [
    "marks=90\n",
    "print(\"I scored \", marks)"
   ]
  },
  {
   "cell_type": "code",
   "execution_count": 71,
   "id": "473b6113-e2bc-4497-81b6-42b6c52df36d",
   "metadata": {},
   "outputs": [
    {
     "name": "stdout",
     "output_type": "stream",
     "text": [
      "Hello World! fuck you!\n",
      "Peace\\/\n"
     ]
    }
   ],
   "source": [
    "print(\"Hello\",\"World!\",\"fuck\",\"you!\",sep=\" \",end=\"\\n\")\n",
    "print(\"Peace\\/\")"
   ]
  },
  {
   "cell_type": "code",
   "execution_count": 33,
   "id": "007e225f-6aef-40c7-8303-5696fa7225e1",
   "metadata": {},
   "outputs": [
    {
     "name": "stdout",
     "output_type": "stream",
     "text": [
      "Hi! Balya\n"
     ]
    }
   ],
   "source": [
    "print(\"Hi!\",end=\" \")\n",
    "print(end=\"\")\n",
    "print(\"Balya\")"
   ]
  },
  {
   "cell_type": "code",
   "execution_count": 45,
   "id": "9c27c93e-5366-41f1-a878-9e35b82f3097",
   "metadata": {},
   "outputs": [],
   "source": [
    "location = \"Kasol\"\n",
    "date = \"22 dec.\""
   ]
  },
  {
   "cell_type": "code",
   "execution_count": 48,
   "id": "7bafbb74-cdf7-48aa-8d7a-aa5ffb9de0c5",
   "metadata": {},
   "outputs": [
    {
     "name": "stdout",
     "output_type": "stream",
     "text": [
      "I want to go to  Kasol on 22 dec."
     ]
    }
   ],
   "source": [
    "print(\"I want to go to \",location, \"on\", date, end=\".\")"
   ]
  },
  {
   "cell_type": "markdown",
   "id": "98f0fffa-5a93-4432-86dc-c35ab85c373a",
   "metadata": {},
   "source": [
    "### Better way to do above code.Output formatting"
   ]
  },
  {
   "cell_type": "code",
   "execution_count": 57,
   "id": "0f23fe5a-1dbb-4425-b63d-630c254cd550",
   "metadata": {},
   "outputs": [
    {
     "name": "stdout",
     "output_type": "stream",
     "text": [
      "I want to go to Kasol on 22 dec\n"
     ]
    }
   ],
   "source": [
    "print(\"I want to go to {1} on {0}\".format(date,location))"
   ]
  },
  {
   "cell_type": "markdown",
   "id": "6fbfa410-09b0-473c-b3aa-122f96e67389",
   "metadata": {},
   "source": [
    "### Formatted strings"
   ]
  },
  {
   "cell_type": "code",
   "execution_count": 67,
   "id": "0f7f3dda-e26b-4a16-963b-ccb5af5131c0",
   "metadata": {},
   "outputs": [],
   "source": [
    "food_item = \"Pizza\"\n",
    "restaurant = \"Dominoes\""
   ]
  },
  {
   "cell_type": "code",
   "execution_count": 70,
   "id": "22eb5256-10af-461a-a789-6dfd2cefc70a",
   "metadata": {},
   "outputs": [
    {
     "name": "stdout",
     "output_type": "stream",
     "text": [
      "I want to order Pizza from Dominoes."
     ]
    }
   ],
   "source": [
    "print(f\"I want to order {food_item} from {restaurant}\", end=\".\")"
   ]
  },
  {
   "cell_type": "markdown",
   "id": "5fba5b10-c307-495d-9a27-83b3609587fa",
   "metadata": {},
   "source": [
    "## Image\n",
    "![](https://www.kaggle.com/static/images/site-logo.png)"
   ]
  },
  {
   "cell_type": "markdown",
   "id": "dd059e63-a91a-4424-93b1-eb95550f113c",
   "metadata": {},
   "source": [
    "## Data types"
   ]
  },
  {
   "cell_type": "code",
   "execution_count": 72,
   "id": "294066e9-800d-4ce1-a9a7-8ea8b04bb7fb",
   "metadata": {},
   "outputs": [
    {
     "data": {
      "text/plain": [
       "int"
      ]
     },
     "execution_count": 72,
     "metadata": {},
     "output_type": "execute_result"
    }
   ],
   "source": [
    "a = 10\n",
    "type(a) "
   ]
  },
  {
   "cell_type": "code",
   "execution_count": 73,
   "id": "d328a1d2-2ed1-4dcf-b6cb-3ce3fd2d555f",
   "metadata": {},
   "outputs": [
    {
     "data": {
      "text/plain": [
       "float"
      ]
     },
     "execution_count": 73,
     "metadata": {},
     "output_type": "execute_result"
    }
   ],
   "source": [
    "b = 19.24\n",
    "type(b)"
   ]
  },
  {
   "cell_type": "code",
   "execution_count": 74,
   "id": "69f522d6-00e5-4403-b03d-c5ed0924f4af",
   "metadata": {},
   "outputs": [
    {
     "data": {
      "text/plain": [
       "float"
      ]
     },
     "execution_count": 74,
     "metadata": {},
     "output_type": "execute_result"
    }
   ],
   "source": [
    "c = 10/23\n",
    "type(c)"
   ]
  },
  {
   "cell_type": "code",
   "execution_count": 75,
   "id": "5cd2b2ec-449a-4991-99dd-a1fedc977471",
   "metadata": {},
   "outputs": [
    {
     "data": {
      "text/plain": [
       "str"
      ]
     },
     "execution_count": 75,
     "metadata": {},
     "output_type": "execute_result"
    }
   ],
   "source": [
    "d = \"a\"\n",
    "type(d)"
   ]
  },
  {
   "cell_type": "code",
   "execution_count": 82,
   "id": "d480f0d4-06a3-4f31-a014-ed6d769ac752",
   "metadata": {},
   "outputs": [
    {
     "name": "stdout",
     "output_type": "stream",
     "text": [
      "<class 'bool'>\n"
     ]
    }
   ],
   "source": [
    "isRainy = True\n",
    "print(type(isRainy))"
   ]
  },
  {
   "cell_type": "markdown",
   "id": "876824ff-dffa-463f-9928-c09e9db81116",
   "metadata": {},
   "source": [
    "## Typecasting"
   ]
  },
  {
   "cell_type": "code",
   "execution_count": 89,
   "id": "7e336dba-0285-4c71-903a-b9880e7ff5d0",
   "metadata": {},
   "outputs": [
    {
     "name": "stdout",
     "output_type": "stream",
     "text": [
      "3\n"
     ]
    }
   ],
   "source": [
    "x = 3.141\n",
    "y = int(x)\n",
    "print(y)"
   ]
  },
  {
   "cell_type": "code",
   "execution_count": 106,
   "id": "23944974-cb9a-4c05-a499-2475c6987d07",
   "metadata": {},
   "outputs": [
    {
     "name": "stdout",
     "output_type": "stream",
     "text": [
      "Hello 5."
     ]
    }
   ],
   "source": [
    "print(\"Hello\", str(5), sep=\" \", end=\".\")"
   ]
  },
  {
   "cell_type": "markdown",
   "id": "abe05680-fcb2-49c0-882e-b3119ecd4883",
   "metadata": {},
   "source": [
    "### above is example of string concatenation."
   ]
  },
  {
   "cell_type": "markdown",
   "id": "17b79e89-7245-4998-b755-d8c3c2992a04",
   "metadata": {},
   "source": [
    "## Input"
   ]
  },
  {
   "cell_type": "code",
   "execution_count": 113,
   "id": "e3c55d5e-9679-4e92-a06d-3e583c7ec59d",
   "metadata": {},
   "outputs": [
    {
     "name": "stdin",
     "output_type": "stream",
     "text": [
      " Girish\n"
     ]
    }
   ],
   "source": [
    "name = input()"
   ]
  },
  {
   "cell_type": "code",
   "execution_count": 114,
   "id": "b22b4348-822d-40bb-8e1c-5f31e9065026",
   "metadata": {},
   "outputs": [
    {
     "name": "stdout",
     "output_type": "stream",
     "text": [
      "Hi Girish\n"
     ]
    }
   ],
   "source": [
    "print( \"Hi \" + name )"
   ]
  },
  {
   "cell_type": "code",
   "execution_count": 115,
   "id": "d59dd289-bfcc-421b-913e-cd74977028ab",
   "metadata": {},
   "outputs": [
    {
     "name": "stdout",
     "output_type": "stream",
     "text": [
      "<class 'str'>\n"
     ]
    }
   ],
   "source": [
    "print(type(name))"
   ]
  },
  {
   "cell_type": "code",
   "execution_count": 120,
   "id": "aa911cf6-1c78-4d10-9b96-723f5cd0f2d2",
   "metadata": {},
   "outputs": [
    {
     "name": "stdin",
     "output_type": "stream",
     "text": [
      " 78634\n"
     ]
    },
    {
     "name": "stdout",
     "output_type": "stream",
     "text": [
      "78635\n"
     ]
    }
   ],
   "source": [
    "number = int(input())\n",
    "print(number + 1)"
   ]
  },
  {
   "cell_type": "markdown",
   "id": "1f90fca6-7de6-47c0-b1d3-14678aa0baaf",
   "metadata": {},
   "source": [
    "### Input returns a string, always typecast it to a number. "
   ]
  },
  {
   "cell_type": "markdown",
   "id": "abe0ec0d-4095-4d62-a4a0-27bd382b1e3b",
   "metadata": {},
   "source": [
    "## Program"
   ]
  },
  {
   "cell_type": "markdown",
   "id": "0e297a48-75cf-4699-8829-75724d8f5aad",
   "metadata": {},
   "source": [
    "### SI calculator"
   ]
  },
  {
   "cell_type": "code",
   "execution_count": 127,
   "id": "df3ad9f2-0b89-4e49-b92e-4f5ca309eda7",
   "metadata": {},
   "outputs": [
    {
     "name": "stdin",
     "output_type": "stream",
     "text": [
      " 10000\n",
      " 4.65\n",
      " 6.5\n"
     ]
    },
    {
     "name": "stdout",
     "output_type": "stream",
     "text": [
      "3022.5\n"
     ]
    }
   ],
   "source": [
    "P = int(input())\n",
    "R = float(input())\n",
    "T = float(input())\n",
    "SI = P*R*T/100\n",
    "print(SI)"
   ]
  },
  {
   "cell_type": "code",
   "execution_count": 129,
   "id": "42e1e678-2bf0-4064-b6bf-14a29e257000",
   "metadata": {},
   "outputs": [
    {
     "name": "stdin",
     "output_type": "stream",
     "text": [
      " 100000\n",
      " 7.6\n",
      " 5\n"
     ]
    },
    {
     "name": "stdout",
     "output_type": "stream",
     "text": [
      "Simple interest is 38000.0\n"
     ]
    }
   ],
   "source": [
    "P = int(input())\n",
    "R = float(input())\n",
    "T = float(input())\n",
    "SI = P*R*T/100\n",
    "print(f\"Simple interest is {SI}\")"
   ]
  }
 ],
 "metadata": {
  "kernelspec": {
   "display_name": "Python 3",
   "language": "python",
   "name": "python3"
  },
  "language_info": {
   "codemirror_mode": {
    "name": "ipython",
    "version": 3
   },
   "file_extension": ".py",
   "mimetype": "text/x-python",
   "name": "python",
   "nbconvert_exporter": "python",
   "pygments_lexer": "ipython3",
   "version": "3.8.8"
  }
 },
 "nbformat": 4,
 "nbformat_minor": 5
}
